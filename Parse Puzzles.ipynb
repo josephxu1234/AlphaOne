{
 "cells": [
  {
   "cell_type": "code",
   "execution_count": 25,
   "id": "7bb50184-08d6-41b8-94ad-4c0cd74ae76b",
   "metadata": {},
   "outputs": [],
   "source": [
    "import chess\n",
    "import pickle"
   ]
  },
  {
   "cell_type": "code",
   "execution_count": 34,
   "id": "2bd0da01-42d3-4d67-ad46-dd424198b23c",
   "metadata": {},
   "outputs": [],
   "source": [
    "puzzles = []"
   ]
  },
  {
   "cell_type": "code",
   "execution_count": 35,
   "id": "0e7d2ab6-474c-48db-b0c7-b3e5f746ec5b",
   "metadata": {},
   "outputs": [],
   "source": [
    "with open('M2_puzzles.txt', 'r') as f:\n",
    "    lines = f.readlines()\n",
    "    for i in range(len(lines)):\n",
    "        line = lines[i]\n",
    "        if line[0:2] == '1.':\n",
    "            FEN = lines[i - 1]\n",
    "            solution = []\n",
    "            board = chess.Board(FEN)\n",
    "            moves = line.split()\n",
    "            \n",
    "            for move in moves:\n",
    "                try:\n",
    "                    m = board.parse_san(move)\n",
    "                    board.push(m)\n",
    "                    solution.append(str(m))\n",
    "                except Exception as e:\n",
    "                    pass\n",
    "            if len(solution) == 3:\n",
    "                puzzles.append((FEN, solution))"
   ]
  },
  {
   "cell_type": "code",
   "execution_count": 38,
   "id": "4351e87a-2718-4f03-8fe7-4ac1c5cf5329",
   "metadata": {},
   "outputs": [],
   "source": [
    "pickle.dump(puzzles, open('m2_puzzles.pkl', 'wb'))"
   ]
  }
 ],
 "metadata": {
  "kernelspec": {
   "display_name": "Python 3 (ipykernel)",
   "language": "python",
   "name": "python3"
  },
  "language_info": {
   "codemirror_mode": {
    "name": "ipython",
    "version": 3
   },
   "file_extension": ".py",
   "mimetype": "text/x-python",
   "name": "python",
   "nbconvert_exporter": "python",
   "pygments_lexer": "ipython3",
   "version": "3.11.3"
  }
 },
 "nbformat": 4,
 "nbformat_minor": 5
}
